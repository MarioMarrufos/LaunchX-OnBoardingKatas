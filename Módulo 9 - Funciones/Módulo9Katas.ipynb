{
  "cells": [
    {
      "cell_type": "markdown",
      "metadata": {},
      "source": [
        "# Ejercicio 1: Trabajar con argumentos en funciones"
      ]
    },
    {
      "cell_type": "code",
      "execution_count": 5,
      "metadata": {},
      "outputs": [
        {
          "name": "stdout",
          "output_type": "stream",
          "text": [
            "El valor del tanque 1 es: 10, del tanque 2 es: 20, del tanque 3 es: 30 y el promedio de los tanques de combustible es: 20.0\n"
          ]
        }
      ],
      "source": [
        "# Función para leer 3 tanques de combustible y muestre el promedio\n",
        "def informe (tanque1, tanque2, tanque3):\n",
        "    return (f\"\"\"El valor del tanque 1 es: {tanque1}, del tanque 2 es: {tanque2}, del tanque 3 es: {tanque3} y el promedio de los tanques de combustible es: {(tanque1 + tanque2+ tanque3)/3}\"\"\")\n",
        "\n",
        "# Llamamos a la función que genera el reporte print(funcion(tanque1, tanque2, tanque3))\n",
        "print(informe(10,20,30))"
      ]
    },
    {
      "cell_type": "code",
      "execution_count": 7,
      "metadata": {},
      "outputs": [
        {
          "name": "stdout",
          "output_type": "stream",
          "text": [
            "El valor del tanque 1 es: 10, del tanque 2 es: 20, del tanque 3 es: 30 y el promedio de los tanques de combustible es: 20.0\n"
          ]
        }
      ],
      "source": [
        "# Función promedio \n",
        "def promedio (*tanques):\n",
        "    return sum(tanques) / len(tanques)\n",
        "\n",
        "# Actualiza la función\n",
        "def informe (tanque1, tanque2, tanque3):\n",
        "    return (f\"\"\"El valor del tanque 1 es: {tanque1}, del tanque 2 es: {tanque2}, del tanque 3 es: {tanque3} y el promedio de los tanques de combustible es: {promedio(tanque1,tanque2,tanque3)}\"\"\")\n",
        "\n",
        "# Llamamos a la función que genera el reporte print(funcion(tanque1, tanque2, tanque3))\n",
        "print(informe(10,20,30))"
      ]
    },
    {
      "cell_type": "markdown",
      "metadata": {},
      "source": [
        "## Ejercicio 2: Trabajo con argumentos de palabra clave"
      ]
    },
    {
      "cell_type": "code",
      "execution_count": 17,
      "metadata": {},
      "outputs": [
        {
          "name": "stdout",
          "output_type": "stream",
          "text": [
            "Informe ver. 1:  Informe preciso de la misión:\n",
            "        destino: Jupiter,\n",
            "        tiempo: 30 minutos,\n",
            "        tanque: 80\n",
            "\n",
            "Informe ver. 2:  Informe preciso de la misión:\n",
            "        destino: Marte\n",
            "        tiempo: 79 minutos\n",
            "        tanques: 3000\n",
            "\n",
            "Informe ver. 3:  Informe preciso de la misión:\n",
            "        destino: Lunas Jupiter\n",
            "        tiempo: 150 minutos\n",
            "        tanques: 600000\n",
            "el tanque1 tiene --> 100000 combustible restante\n",
            "el tanque2 tiene --> 500000 combustible restante\n",
            "\n"
          ]
        }
      ],
      "source": [
        "# Función con un informe preciso de la misión. Considera hora de prelanzamiento, tiempo de vuelo, destino, tanque externo y tanque interno\n",
        "\n",
        "def informe_preciso(hora_prelanzamineto,tiempo_vuelo,destino,tanque_externo,tanque_interno):\n",
        "    return f\"\"\"Informe preciso de la misión:\n",
        "        destino: {destino},\n",
        "        tiempo: {hora_prelanzamineto + tiempo_vuelo} minutos,\n",
        "        tanque: {tanque_interno + tanque_externo}\\n\"\"\"\n",
        "\n",
        "print(\"Informe ver. 1: \", informe_preciso(10, 20,\"Jupiter\",30,50))\n",
        "\n",
        "# Escribe tu nueva función de reporte considerando lo anterior\n",
        "def informe_preciso_2(destino,*tiempos,**tanques):\n",
        "    return f\"\"\"Informe preciso de la misión:\n",
        "        destino: {destino}\n",
        "        tiempo: {sum(tiempos)} minutos\n",
        "        tanques: {sum(tanques.values())}\\n\"\"\"\n",
        "\n",
        "print(\"Informe ver. 2: \", informe_preciso_2(\"Marte\", 24, 55, tanque1=1000, tanque2=2000))\n",
        "\n",
        "\n",
        "# Escribe tu nueva función\n",
        "\n",
        "def informe_preciso_3(destino,*tiempos,**tanques):\n",
        "    informe= f\"\"\"Informe preciso de la misión:\n",
        "        destino: {destino}\n",
        "        tiempo: {sum(tiempos)} minutos\n",
        "        tanques: {sum(tanques.values())}\\n\"\"\"\n",
        "    for nombre_tanque, combustible in tanques.items():\n",
        "        informe += f\"el {nombre_tanque} tiene --> {combustible} combustible restante\\n\"\n",
        "    return informe\n",
        "    \n",
        "\n",
        "print(\"Informe ver. 3: \", informe_preciso_3(\"Lunas Jupiter\", 60, 90, tanque1=100000, tanque2=500000))"
      ]
    }
  ],
  "metadata": {
    "interpreter": {
      "hash": "b8bdd4e700647ba2b08c59e5df8b7da1dcf50a218bcd4c1bcd9b3dc92e8788e5"
    },
    "kernelspec": {
      "display_name": "Python 3.9.1 64-bit",
      "name": "python3"
    },
    "language_info": {
      "codemirror_mode": {
        "name": "ipython",
        "version": 3
      },
      "file_extension": ".py",
      "mimetype": "text/x-python",
      "name": "python",
      "nbconvert_exporter": "python",
      "pygments_lexer": "ipython3",
      "version": "3.10.2"
    },
    "nteract": {
      "version": "nteract-front-end@1.0.0"
    }
  },
  "nbformat": 4,
  "nbformat_minor": 4
}
