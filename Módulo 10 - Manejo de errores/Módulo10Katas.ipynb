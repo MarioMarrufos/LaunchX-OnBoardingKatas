{
  "cells": [
    {
      "cell_type": "code",
      "execution_count": 2,
      "metadata": {},
      "outputs": [
        {
          "ename": "FileNotFoundError",
          "evalue": "[Errno 2] No such file or directory: '/path/to/mars.jpg'",
          "output_type": "error",
          "traceback": [
            "\u001b[1;31m---------------------------------------------------------------------------\u001b[0m",
            "\u001b[1;31mFileNotFoundError\u001b[0m                         Traceback (most recent call last)",
            "\u001b[1;32mc:\\Users\\sessh\\Documents\\documentos mario\\innovacionmicrosoft\\python\\CursoIntroPython-main\\Módulo 6 - Introducción a las listas\\Módulo9Katas.ipynb Cell 2'\u001b[0m in \u001b[0;36m<module>\u001b[1;34m\u001b[0m\n\u001b[0;32m      <a href='vscode-notebook-cell:/c%3A/Users/sessh/Documents/documentos%20mario/innovacionmicrosoft/python/CursoIntroPython-main/M%C3%B3dulo%206%20-%20Introducci%C3%B3n%20a%20las%20listas/M%C3%B3dulo9Katas.ipynb#ch0000001?line=0'>1</a>\u001b[0m \u001b[39m#Si intentamos en un notebook, abrir un archivo inexistente sucede lo siguiente:\u001b[39;00m\n\u001b[1;32m----> <a href='vscode-notebook-cell:/c%3A/Users/sessh/Documents/documentos%20mario/innovacionmicrosoft/python/CursoIntroPython-main/M%C3%B3dulo%206%20-%20Introducci%C3%B3n%20a%20las%20listas/M%C3%B3dulo9Katas.ipynb#ch0000001?line=1'>2</a>\u001b[0m \u001b[39mopen\u001b[39;49m(\u001b[39m\"\u001b[39;49m\u001b[39m/path/to/mars.jpg\u001b[39;49m\u001b[39m\"\u001b[39;49m)\n",
            "\u001b[1;31mFileNotFoundError\u001b[0m: [Errno 2] No such file or directory: '/path/to/mars.jpg'"
          ]
        }
      ],
      "source": [
        "#Si intentamos en un notebook, abrir un archivo inexistente sucede lo siguiente:\n",
        "open(\"/path/to/mars.jpg\")"
      ]
    }
  ],
  "metadata": {
    "interpreter": {
      "hash": "b8bdd4e700647ba2b08c59e5df8b7da1dcf50a218bcd4c1bcd9b3dc92e8788e5"
    },
    "kernelspec": {
      "display_name": "Python 3.9.1 64-bit",
      "name": "python3"
    },
    "language_info": {
      "codemirror_mode": {
        "name": "ipython",
        "version": 3
      },
      "file_extension": ".py",
      "mimetype": "text/x-python",
      "name": "python",
      "nbconvert_exporter": "python",
      "pygments_lexer": "ipython3",
      "version": "3.10.2"
    },
    "nteract": {
      "version": "nteract-front-end@1.0.0"
    }
  },
  "nbformat": 4,
  "nbformat_minor": 4
}
